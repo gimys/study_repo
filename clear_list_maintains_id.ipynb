{
 "cells": [
  {
   "cell_type": "markdown",
   "metadata": {},
   "source": [
    "# 0. 요약"
   ]
  },
  {
   "cell_type": "markdown",
   "metadata": {},
   "source": [
    "- stackoverflow의 코드 하나가 이상해서 원인을 찾아봄 (https://stackoverflow.com/questions/44858458/nested-lists-in-python-creating-an-issue)\n",
    "- 해커랭크에서 해당 문제를 풀어볼 수 있음 (https://www.hackerrank.com/challenges/list-comprehensions/problem)\n",
    "- 결론적으로 list.clear()는 clear하는 리스트의 values를 초기화하지만 id를 초기화 하지 않는 것으로 확인됨.\n",
    "- id라는 것은 파이썬 객체의 메모리 주소를 나타냄.\n",
    "- temp_list = []로 초기화 하는 경우 values와 id가 동시에 초기화됨.\n",
    "- 따라서, final_list에 temp_list의 값을 반복적으로 넣는 작업에서 list.clear()로 초기화한 1번 예제는 final_list에 들어간 temp_list의 값들이 최종적으로 결정된 temp_list의 값으로 동일하게 변경됨\n",
    "- 그에비해 2번 예제와 같이 temp_list = []로 초기화 하는 경우에는 final_list에 들어간 temp_list의 값들의 id가 다르므로 1번과 달리 서로 다른 값을 유지하면서 final_list에 값을 채워나감"
   ]
  },
  {
   "cell_type": "markdown",
   "metadata": {},
   "source": [
    "# 1. clear list를 쓰는 경우"
   ]
  },
  {
   "cell_type": "code",
   "execution_count": 87,
   "metadata": {},
   "outputs": [],
   "source": [
    "final_list = []\n",
    "temp_list = []"
   ]
  },
  {
   "cell_type": "code",
   "execution_count": 88,
   "metadata": {
    "scrolled": true
   },
   "outputs": [
    {
     "name": "stdout",
     "output_type": "stream",
     "text": [
      "temp_list의 아이디는  :  1987909164616\n",
      "final_list의 아이디는 :  1987909161032\n"
     ]
    }
   ],
   "source": [
    "print('temp_list의 아이디는  : ', id(temp_list))\n",
    "print('final_list의 아이디는 : ', id(final_list))"
   ]
  },
  {
   "cell_type": "markdown",
   "metadata": {},
   "source": [
    "- 최초로 생성된 temp_list와 final_list의 id를 기억해두자"
   ]
  },
  {
   "cell_type": "code",
   "execution_count": 89,
   "metadata": {},
   "outputs": [],
   "source": [
    "def insert_3_elements(i, j, k):\n",
    "    temp_list.append(i)\n",
    "    temp_list.append(j)\n",
    "    temp_list.append(k)\n",
    "    final_list.append(temp_list)"
   ]
  },
  {
   "cell_type": "markdown",
   "metadata": {},
   "source": [
    "- 본래 for문으로 이루어진 작업을 확인 용도로 활용하기 위해 def 제작"
   ]
  },
  {
   "cell_type": "code",
   "execution_count": 90,
   "metadata": {},
   "outputs": [],
   "source": [
    "insert_3_elements(0,0,0)"
   ]
  },
  {
   "cell_type": "markdown",
   "metadata": {},
   "source": [
    "- temp_list = [0, 0, 0,] 생성"
   ]
  },
  {
   "cell_type": "code",
   "execution_count": 91,
   "metadata": {
    "scrolled": true
   },
   "outputs": [
    {
     "data": {
      "text/plain": [
       "[[0, 0, 0]]"
      ]
     },
     "execution_count": 91,
     "metadata": {},
     "output_type": "execute_result"
    }
   ],
   "source": [
    "final_list"
   ]
  },
  {
   "cell_type": "markdown",
   "metadata": {},
   "source": [
    "- final_list에 temp_list의 값이 들어간 것이 확인됨"
   ]
  },
  {
   "cell_type": "code",
   "execution_count": 92,
   "metadata": {
    "scrolled": true
   },
   "outputs": [
    {
     "name": "stdout",
     "output_type": "stream",
     "text": [
      "temp_list의 아이디는 :  1987909164616\n",
      "final_list의 아이디는 :  1987909161032\n",
      "final_list의 첫번째 원소 아이디는 :  1987909164616\n"
     ]
    }
   ],
   "source": [
    "print('temp_list의 아이디는 : ', id(temp_list))\n",
    "print('final_list의 아이디는 : ', id(final_list))\n",
    "print('final_list의 첫번째 원소 아이디는 : ', id(final_list[0]))"
   ]
  },
  {
   "cell_type": "markdown",
   "metadata": {},
   "source": [
    "- 본래의 temp_list와 final_list에 들어간 temp_list가 동일한 id를 가지고 있음."
   ]
  },
  {
   "cell_type": "code",
   "execution_count": 93,
   "metadata": {},
   "outputs": [],
   "source": [
    "temp_list.clear()"
   ]
  },
  {
   "cell_type": "code",
   "execution_count": 94,
   "metadata": {},
   "outputs": [
    {
     "name": "stdout",
     "output_type": "stream",
     "text": [
      "temp_list의 아이디는 :  1987909164616\n"
     ]
    }
   ],
   "source": [
    "print('temp_list의 아이디는 : ', id(temp_list))"
   ]
  },
  {
   "cell_type": "markdown",
   "metadata": {},
   "source": [
    "- temp_list.clear()로 values는 초기화 됐으나 id는 유지됨."
   ]
  },
  {
   "cell_type": "code",
   "execution_count": 67,
   "metadata": {},
   "outputs": [],
   "source": [
    "insert_3_elements(0,0,1)"
   ]
  },
  {
   "cell_type": "code",
   "execution_count": 68,
   "metadata": {},
   "outputs": [
    {
     "data": {
      "text/plain": [
       "[[0, 0, 1], [0, 0, 1]]"
      ]
     },
     "execution_count": 68,
     "metadata": {},
     "output_type": "execute_result"
    }
   ],
   "source": [
    "final_list"
   ]
  },
  {
   "cell_type": "code",
   "execution_count": 74,
   "metadata": {
    "scrolled": false
   },
   "outputs": [
    {
     "name": "stdout",
     "output_type": "stream",
     "text": [
      "temp_list의 아이디는  :  1987909162376\n",
      "final_list의 아이디는 :  1987909194440\n",
      "final_list의 첫번째 원소 아이디는 :  1987909162376\n",
      "final_list의 두번째 원소 아이디는 :  1987909162376\n"
     ]
    }
   ],
   "source": [
    "print('temp_list의 아이디는  : ', id(temp_list))\n",
    "print('final_list의 아이디는 : ', id(final_list))\n",
    "print('final_list의 첫번째 원소 아이디는 : ', id(final_list[0]))\n",
    "print('final_list의 두번째 원소 아이디는 : ', id(final_list[1]))"
   ]
  },
  {
   "cell_type": "markdown",
   "metadata": {},
   "source": [
    "- 따라서 [0,0,1]이라는 새로운 temp_list를 만들어 넣는다고 하더라도 final_list에 이전에 들어간 temp_list도 동일한 id이므로 값이 [0,0,1]로 동일하게 변함."
   ]
  },
  {
   "cell_type": "markdown",
   "metadata": {},
   "source": [
    "# 2. temp_list = [] 을 쓰는 경우"
   ]
  },
  {
   "cell_type": "code",
   "execution_count": 75,
   "metadata": {},
   "outputs": [],
   "source": [
    "final_list = []\n",
    "temp_list = []"
   ]
  },
  {
   "cell_type": "code",
   "execution_count": 76,
   "metadata": {},
   "outputs": [
    {
     "name": "stdout",
     "output_type": "stream",
     "text": [
      "temp_list의 아이디는  :  1987909164488\n",
      "final_list의 아이디는 :  1987909138312\n"
     ]
    }
   ],
   "source": [
    "print('temp_list의 아이디는  : ', id(temp_list))\n",
    "print('final_list의 아이디는 : ', id(final_list))"
   ]
  },
  {
   "cell_type": "code",
   "execution_count": 77,
   "metadata": {},
   "outputs": [],
   "source": [
    "insert_3_elements(0,0,0)"
   ]
  },
  {
   "cell_type": "code",
   "execution_count": 78,
   "metadata": {},
   "outputs": [
    {
     "data": {
      "text/plain": [
       "[[0, 0, 0]]"
      ]
     },
     "execution_count": 78,
     "metadata": {},
     "output_type": "execute_result"
    }
   ],
   "source": [
    "final_list"
   ]
  },
  {
   "cell_type": "code",
   "execution_count": 79,
   "metadata": {
    "scrolled": true
   },
   "outputs": [
    {
     "name": "stdout",
     "output_type": "stream",
     "text": [
      "1987909164488\n",
      "1987909138312\n",
      "1987909164488\n"
     ]
    }
   ],
   "source": [
    "print(id(temp_list))\n",
    "print(id(final_list))\n",
    "print(id(final_list[0]))"
   ]
  },
  {
   "cell_type": "markdown",
   "metadata": {},
   "source": [
    "- 여기까지는 1번과 동일한 것을 확인할 수 있음."
   ]
  },
  {
   "cell_type": "code",
   "execution_count": 80,
   "metadata": {},
   "outputs": [],
   "source": [
    "temp_list = []"
   ]
  },
  {
   "cell_type": "code",
   "execution_count": 81,
   "metadata": {
    "scrolled": true
   },
   "outputs": [
    {
     "name": "stdout",
     "output_type": "stream",
     "text": [
      "temp_list의 아이디는  :  1987909196872\n"
     ]
    }
   ],
   "source": [
    "print('temp_list의 아이디는  : ', id(temp_list))"
   ]
  },
  {
   "cell_type": "markdown",
   "metadata": {},
   "source": [
    "- temp_list = []로 초기화 했더니 values가 초기화 되고 새로운 id로 변경된 것을 알 수 있음."
   ]
  },
  {
   "cell_type": "code",
   "execution_count": 82,
   "metadata": {},
   "outputs": [],
   "source": [
    "insert_3_elements(0,0,1)"
   ]
  },
  {
   "cell_type": "code",
   "execution_count": 83,
   "metadata": {},
   "outputs": [
    {
     "data": {
      "text/plain": [
       "[[0, 0, 0], [0, 0, 1]]"
      ]
     },
     "execution_count": 83,
     "metadata": {},
     "output_type": "execute_result"
    }
   ],
   "source": [
    "final_list"
   ]
  },
  {
   "cell_type": "code",
   "execution_count": 84,
   "metadata": {},
   "outputs": [
    {
     "name": "stdout",
     "output_type": "stream",
     "text": [
      "1987909196872\n",
      "1987909138312\n",
      "1987909164488\n",
      "1987909196872\n"
     ]
    }
   ],
   "source": [
    "print(id(temp_list))\n",
    "print(id(final_list))\n",
    "print(id(final_list[0]))\n",
    "print(id(final_list[1]))"
   ]
  },
  {
   "cell_type": "markdown",
   "metadata": {},
   "source": [
    "- 위와 같이 temp_list = [] 으로 초기화를 하면 이전의 temp_list와 다른 id를 갖고 있는 temp_list가 생성됨.\n",
    "- 따라서 final_list에 들어간 첫번째와 두번째 temp_list의 id가 다르므로 temp_list.clear()와 달리 이전 값을 유지함."
   ]
  }
 ],
 "metadata": {
  "kernelspec": {
   "display_name": "Python 3",
   "language": "python",
   "name": "python3"
  },
  "language_info": {
   "codemirror_mode": {
    "name": "ipython",
    "version": 3
   },
   "file_extension": ".py",
   "mimetype": "text/x-python",
   "name": "python",
   "nbconvert_exporter": "python",
   "pygments_lexer": "ipython3",
   "version": "3.7.1"
  }
 },
 "nbformat": 4,
 "nbformat_minor": 2
}
